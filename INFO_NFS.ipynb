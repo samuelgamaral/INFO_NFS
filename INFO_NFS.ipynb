{
  "nbformat": 4,
  "nbformat_minor": 0,
  "metadata": {
    "colab": {
      "provenance": [],
      "mount_file_id": "1a4KbnAeiCsFXaMRK8jto6vPLCOfH4tSJ",
      "authorship_tag": "ABX9TyOOyUaAJ4yyKfve1sS2QtNn",
      "include_colab_link": true
    },
    "kernelspec": {
      "name": "python3",
      "display_name": "Python 3"
    },
    "language_info": {
      "name": "python"
    }
  },
  "cells": [
    {
      "cell_type": "markdown",
      "metadata": {
        "id": "view-in-github",
        "colab_type": "text"
      },
      "source": [
        "<a href=\"https://colab.research.google.com/github/samuelgamaral/INFO_NFS/blob/main/INFO_NFS.ipynb\" target=\"_parent\"><img src=\"https://colab.research.google.com/assets/colab-badge.svg\" alt=\"Open In Colab\"/></a>"
      ]
    },
    {
      "cell_type": "code",
      "execution_count": 12,
      "metadata": {
        "colab": {
          "base_uri": "https://localhost:8080/"
        },
        "id": "rLGEG-bn86MG",
        "outputId": "ef033a16-c7f5-4f75-c71e-486ca9a5d107"
      },
      "outputs": [
        {
          "output_type": "stream",
          "name": "stdout",
          "text": [
            "fatal: destination path 'INFO_NFS' already exists and is not an empty directory.\n",
            "Resumo gerado com sucesso!\n"
          ]
        }
      ],
      "source": [
        "import os\n",
        "import pandas as pd\n",
        "import xml.etree.ElementTree as ET\n",
        "from datetime import datetime\n",
        "\n",
        "!git clone https://github.com/samuelgamaral/INFO_NFS.git\n",
        "\n",
        "# Função para extrair dados de um XML de NFS-e\n",
        "def extrair_dados_nfse(xml_path):\n",
        "    tree = ET.parse(xml_path)\n",
        "    root = tree.getroot()\n",
        "\n",
        "    ns = {'ns': root.tag.split('}')[0].strip('{')}  # Detecta o namespace automaticamente\n",
        "\n",
        "    try:\n",
        "        prestador_cnpj = root.find('.//ns:PrestadorServico/ns:IdentificacaoPrestador/ns:Cnpj', ns).text\n",
        "        tomador_cnpj = root.find('.//ns:TomadorServico/ns:IdentificacaoTomador/ns:CpfCnpj/ns:Cnpj', ns)\n",
        "        if tomador_cnpj is None:\n",
        "            tomador_cnpj = root.find('.//ns:TomadorServico/ns:IdentificacaoTomador/ns:CpfCnpj/ns:Cpf', ns)\n",
        "        tomador_cnpj = tomador_cnpj.text if tomador_cnpj is not None else None\n",
        "\n",
        "        valor_servico = root.find('.//ns:Valores/ns:ValorServicos', ns).text\n",
        "        valor_iss = root.find('.//ns:Valores/ns:ValorIss', ns)\n",
        "        data_emissao = root.find('.//ns:DataEmissao', ns).text\n",
        "        numero_nf = root.find('.//ns:IdentificacaoNfse/ns:Numero', ns)\n",
        "\n",
        "        return {\n",
        "            'arquivo': os.path.basename(xml_path),\n",
        "            'numero_nf': numero_nf.text if numero_nf is not None else 'N/A',\n",
        "            'prestador_cnpj': prestador_cnpj,\n",
        "            'tomador_cnpj': tomador_cnpj,\n",
        "            'valor_servico': float(valor_servico),\n",
        "            'valor_iss': float(valor_iss.text) if valor_iss is not None else 0.0,\n",
        "            'data_emissao': data_emissao\n",
        "        }\n",
        "\n",
        "    except Exception as e:\n",
        "        return {'erro': str(e), 'arquivo': os.path.basename(xml_path)}\n",
        "\n",
        "# Pasta com os arquivos XML\n",
        "pasta_xml = '/content/INFO_NFS'  # Altere para o caminho correto\n",
        "\n",
        "dados_nfse = []\n",
        "\n",
        "# Processa todos os arquivos XML da pasta\n",
        "for arquivo in os.listdir(pasta_xml):\n",
        "    if arquivo.endswith('.xml'):\n",
        "        caminho = os.path.join(pasta_xml, arquivo)\n",
        "        dados_nfse.append(extrair_dados_nfse(caminho))\n",
        "\n",
        "# Cria DataFrame\n",
        "df = pd.DataFrame(dados_nfse)\n",
        "\n",
        "# Converte data\n",
        "df['data_emissao'] = pd.to_datetime(df['data_emissao'], errors='coerce').dt.tz_localize(None)\n",
        "\n",
        "# Verificações de inconsistência\n",
        "df['valor_servico_invalido'] = df['valor_servico'] <= 0\n",
        "df['data_futura'] = df['data_emissao'] > pd.Timestamp.now()\n",
        "df['cnpj_tomador_faltando'] = df['tomador_cnpj'].isnull()\n",
        "\n",
        "# Exporta para Excel\n",
        "df.to_excel('relatorio_nfse_completo.xlsx', index=False)\n",
        "\n",
        "# Retorno\n",
        "print(\"Resumo gerado com sucesso!\")\n"
      ]
    }
  ]
}